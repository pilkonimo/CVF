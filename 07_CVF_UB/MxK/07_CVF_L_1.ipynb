{
 "cells": [
  {
   "cell_type": "code",
   "execution_count": 7,
   "metadata": {},
   "outputs": [],
   "source": [
    "import numpy as np"
   ]
  },
  {
   "cell_type": "code",
   "execution_count": 10,
   "metadata": {},
   "outputs": [],
   "source": [
    "two_D_ones = [np.array([1, 0]), np.array([0, 1])]\n",
    "three_D_ones =[np.array([1, 0, 0]), np.array([0, 1, 0]), np.array([0, 0, 1])]\n",
    "Psi_1 = np.array([11, 3])\n",
    "Psi_2 = np.array([6, 3])\n",
    "Psi_3 = np.array([1, 10])\n",
    "Psi_4 = np.array([0, 0])\n",
    "Psi_5 = np.array([5, 3 ,1])\n",
    "Psi_3_4 = Psi_2_3 = Psi_1_2 = np.array([[3, 10], [10, 3]])\n",
    "Psi_2_5 = np.array([[2, 8, 4], [6, 1, 3]])"
   ]
  },
  {
   "cell_type": "code",
   "execution_count": 32,
   "metadata": {},
   "outputs": [
    {
     "name": "stdout",
     "output_type": "stream",
     "text": [
      "x_1=[0 1], x_2=[0 1], x_3=[1 0], x_4=[1 0], x_5=[0 1 0]\n",
      "result=27\n",
      "x_1=[0 1], x_2=[0 1], x_3=[1 0], x_4=[1 0], x_5=[0 0 1]\n",
      "result=27\n",
      "minimum: 27\n",
      "results: [34, 33, 49, 34, 38, 37, 42, 27, 32, 31, 42, 27, 57, 56, 58, 43, 61, 60, 51, 36, 55, 54, 51, 36, 41, 40, 56, 41, 45, 44, 49, 34, 39, 38, 49, 34, 50, 49, 51, 36, 54, 53, 44, 29, 48, 47, 44, 29]\n"
     ]
    }
   ],
   "source": [
    "results = []\n",
    "for x_4 in two_D_ones:\n",
    "    for x_3 in two_D_ones:\n",
    "        for x_5 in three_D_ones:\n",
    "            for x_2 in two_D_ones:\n",
    "                for x_1 in two_D_ones:\n",
    "                    result = 0\n",
    "                    result += Psi_3@x_3\n",
    "                    result += x_3@(Psi_3_4@x_4)\n",
    "                    result += Psi_5@x_5\n",
    "                    result += Psi_2@x_2\n",
    "                    result += x_2@(Psi_2_5@x_5)\n",
    "                    result += x_2@(Psi_2_3@x_3)\n",
    "                    result += Psi_1@x_1\n",
    "                    result += x_1@(Psi_1_2@x_2)\n",
    "                    results.append(result)\n",
    "                    if result == 27:\n",
    "                        print(f'x_1={x_1}, x_2={x_2}, x_3={x_3}, x_4={x_4}, x_5={x_5}')\n",
    "                        print(f'result={result}')\n",
    "\n",
    "print(f'minimum: {np.min(results)}')\n",
    "print(f'results: {results}')"
   ]
  }
 ],
 "metadata": {
  "kernelspec": {
   "display_name": "Python 3",
   "language": "python",
   "name": "python3"
  },
  "language_info": {
   "codemirror_mode": {
    "name": "ipython",
    "version": 3
   },
   "file_extension": ".py",
   "mimetype": "text/x-python",
   "name": "python",
   "nbconvert_exporter": "python",
   "pygments_lexer": "ipython3",
   "version": "3.7.6"
  }
 },
 "nbformat": 4,
 "nbformat_minor": 4
}

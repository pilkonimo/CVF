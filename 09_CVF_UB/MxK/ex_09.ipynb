{
 "cells": [
  {
   "cell_type": "code",
   "execution_count": 2,
   "metadata": {},
   "outputs": [
    {
     "name": "stdout",
     "output_type": "stream",
     "text": [
      "Populating the interactive namespace from numpy and matplotlib\n"
     ]
    }
   ],
   "source": [
    "import numpy as np\n",
    "%matplotlib notebook\n",
    "from matplotlib import pyplot as plt\n",
    "from networkx import grid_graph\n",
    "%pylab inline\n",
    "%load_ext autoreload\n",
    "%autoreload 2\n",
    "\n",
    "from cvf20.unionfind import UnionFind as UF"
   ]
  },
  {
   "cell_type": "markdown",
   "metadata": {},
   "source": [
    "# 1. Generalized All-Pairs Shortest Path Problem"
   ]
  },
  {
   "cell_type": "code",
   "execution_count": 105,
   "metadata": {},
   "outputs": [],
   "source": [
    "def generalized_shortest_path(graph, gen_sum, gen_mult):\n",
    "    \"\"\"\n",
    "    Parameters\n",
    "    ---------\n",
    "\n",
    "    graph    :     ndarray\n",
    "        Quadratic matrix representing the edge weights between the nodes.\n",
    "    gen_sum    :    function\n",
    "        Function representing generalized sum, that takes list as arg.\n",
    "    gen_mult    :    function\n",
    "        Function representing generalized multiplication, that takes 2 elements of monoid as arg.\n",
    "    \"\"\"\n",
    "    assert graph.shape[0] == graph.shape[1]\n",
    "    counter = 0\n",
    "    n = graph.shape[0]\n",
    "    previous = np.ones_like(graph) * np.inf\n",
    "    result = np.copy(graph)\n",
    "    while not np.equal(previous, result).all():\n",
    "        counter += 1\n",
    "        previous = np.copy(result)\n",
    "        for i in range(n):\n",
    "            for j in range(n):\n",
    "                result[i][j] = gen_sum([gen_mult(graph[i][x], previous[x][j]) for x in range(n)])\n",
    "        # modification for c)\n",
    "        if any([np.diagonal(result) < 0]):\n",
    "            print('negative cycle is present')\n",
    "            return\n",
    "    print(f'needed {counter} multiplications')\n",
    "    return result"
   ]
  },
  {
   "cell_type": "code",
   "execution_count": 106,
   "metadata": {},
   "outputs": [],
   "source": [
    "graph = np.array([[0, 6, np.inf, np.inf, np.inf],\n",
    "                  [np.inf, 0, np.inf, np.inf, 2],\n",
    "                  [np.inf, 3, 0, np.inf, np.inf],\n",
    "                  [1, 5, 8, 0, np.inf],\n",
    "                  [np.inf, np.inf, np.inf, 4, 0]])"
   ]
  },
  {
   "cell_type": "markdown",
   "metadata": {},
   "source": [
    "### a) All-pairs shortest path"
   ]
  },
  {
   "cell_type": "code",
   "execution_count": 107,
   "metadata": {},
   "outputs": [
    {
     "name": "stdout",
     "output_type": "stream",
     "text": [
      "needed 4 multiplications\n",
      "shortest_path:\n",
      "[[ 0.  6. 20. 12.  8.]\n",
      " [ 7.  0. 14.  6.  2.]\n",
      " [10.  3.  0.  9.  5.]\n",
      " [ 1.  5.  8.  0.  7.]\n",
      " [ 5.  9. 12.  4.  0.]]\n"
     ]
    }
   ],
   "source": [
    "def minimum(l):\n",
    "    return np.min(l)\n",
    "\n",
    "\n",
    "def add(a, b):\n",
    "    return a + b\n",
    "\n",
    "shortest_path = generalized_shortest_path(graph, minimum, add)\n",
    "print(f'shortest_path:\\n{shortest_path}')"
   ]
  },
  {
   "cell_type": "markdown",
   "metadata": {},
   "source": [
    "### b) All-pairs minimax path"
   ]
  },
  {
   "cell_type": "code",
   "execution_count": 108,
   "metadata": {},
   "outputs": [
    {
     "name": "stdout",
     "output_type": "stream",
     "text": [
      "needed 4 multiplications\n",
      "shortest_path:\n",
      "[[0. 6. 8. 6. 6.]\n",
      " [4. 0. 8. 4. 2.]\n",
      " [4. 3. 0. 4. 3.]\n",
      " [1. 5. 8. 0. 5.]\n",
      " [4. 5. 8. 4. 0.]]\n"
     ]
    }
   ],
   "source": [
    "def minimum(l):\n",
    "    return np.min(l)\n",
    "\n",
    "\n",
    "def maximum(a, b):\n",
    "    return np.max([a,b])\n",
    "\n",
    "shortest_path = generalized_shortest_path(graph, minimum, maximum)\n",
    "print(f'shortest_path:\\n{shortest_path}')"
   ]
  },
  {
   "cell_type": "markdown",
   "metadata": {},
   "source": [
    "### c) Negative cycles"
   ]
  },
  {
   "cell_type": "markdown",
   "metadata": {},
   "source": [
    "If any of the diagonal elements is < 0, a negative cycle is present in the graph."
   ]
  },
  {
   "cell_type": "markdown",
   "metadata": {},
   "source": [
    "# 2. Distance Transform Watershed using Fiji"
   ]
  },
  {
   "cell_type": "markdown",
   "metadata": {},
   "source": [
    "### b.) Distance Transform Watershed\n",
    "Use the code block below to load the image you generated with Fiji and plot it overlayed with the original raw image."
   ]
  },
  {
   "cell_type": "code",
   "execution_count": null,
   "metadata": {},
   "outputs": [],
   "source": [
    "from cvf20.utils import plot_segm\n",
    "raw = plt.imread(\"data/raw.png\")\n",
    "WS = plt.imread(\"data/distance-transform-WS.tif\")\n",
    "\n",
    "f, ax = plt.subplots(ncols=1, nrows=1, figsize=(15,15))\n",
    "plot_segm(ax, WS, with_background_label=True, alpha_labels=0.4, background_image=raw)\n",
    "plt.show()"
   ]
  },
  {
   "cell_type": "markdown",
   "metadata": {},
   "source": [
    "### c.) Segmenting boundaries \n",
    "Use the code block below to load the image you generated with Fiji and plot it overlayed with the original raw image."
   ]
  },
  {
   "cell_type": "code",
   "execution_count": null,
   "metadata": {},
   "outputs": [],
   "source": [
    "from cvf20.utils import plot_segm\n",
    "raw = plt.imread(\"data/raw.png\")\n",
    "WS = plt.imread(\"data/distance-transform-WS-no-boundaries.tif\")\n",
    "\n",
    "f, ax = plt.subplots(ncols=1, nrows=1, figsize=(15,15))\n",
    "plot_segm(ax, WS, with_background_label=True, alpha_labels=0.4, background_image=raw)\n",
    "plt.show()"
   ]
  },
  {
   "cell_type": "markdown",
   "metadata": {},
   "source": [
    "# 3. Bonus: Connected Component Labeling"
   ]
  },
  {
   "cell_type": "markdown",
   "metadata": {},
   "source": [
    "### b) Connected components on graphs\n",
    "Use the code block below to test your implementation on a randomly generated graph with 100 vertices. For every pair of nodes, we introduce an edge with probability 0.02. This is usually known as Erdős-Rényi graph or binomial graph. \n",
    "\n",
    "You should find that the graph has one very big connected component and several small ones."
   ]
  },
  {
   "cell_type": "code",
   "execution_count": 10,
   "metadata": {},
   "outputs": [
    {
     "name": "stdout",
     "output_type": "stream",
     "text": [
      "Size connected components:  [78  1  1  1  1  1  3  1  2  1  2  1  1  1  1  1  1  1  1]\n",
      "Biggest connected component: 78 vertices (out of 100)\n"
     ]
    }
   ],
   "source": [
    "from networkx.algorithms.components import number_connected_components\n",
    "from networkx.generators.random_graphs import fast_gnp_random_graph\n",
    "\n",
    "# We now generate a graph with 100 vertices. For every pair of nodes, we introduce an edge with probability 0.02\n",
    "# This is usually known as Erdős-Rényi graph or binomial graph.\n",
    "G = fast_gnp_random_graph(100, 0.02)\n",
    "nodes = [n for n in G.nodes()]\n",
    "edges = [e for e in G.edges()]\n",
    "\n",
    "########################### \n",
    "# Your code starts here:\n",
    "###########################\n",
    "\n",
    "uf = UF()\n",
    "for n in nodes:\n",
    "    uf.add(n)\n",
    "\n",
    "for u, v in edges:\n",
    "    uf.union(u, v)\n",
    "\n",
    "    \n",
    "parents = np.zeros((len(nodes)), dtype='int32')\n",
    "for n in nodes:\n",
    "    parents[n] = uf.find(n)\n",
    "    \n",
    "\n",
    "size_connected_components = np.unique(parents, return_counts=True)[1]\n",
    "#size_connected_components = uf.n_comps \n",
    "\n",
    "########################### \n",
    "# Your code ends here\n",
    "###########################\n",
    "\n",
    "\n",
    "if size_connected_components is not None:\n",
    "    assert size_connected_components.shape[0] == number_connected_components(G)\n",
    "    print(\"Size connected components: \", size_connected_components)\n",
    "    print(\"Biggest connected component: {} vertices (out of 100)\".format(size_connected_components.max()))"
   ]
  },
  {
   "cell_type": "code",
   "execution_count": null,
   "metadata": {},
   "outputs": [],
   "source": []
  }
 ],
 "metadata": {
  "kernelspec": {
   "display_name": "Python 3",
   "language": "python",
   "name": "python3"
  },
  "language_info": {
   "codemirror_mode": {
    "name": "ipython",
    "version": 3
   },
   "file_extension": ".py",
   "mimetype": "text/x-python",
   "name": "python",
   "nbconvert_exporter": "python",
   "pygments_lexer": "ipython3",
   "version": "3.7.7"
  }
 },
 "nbformat": 4,
 "nbformat_minor": 2
}

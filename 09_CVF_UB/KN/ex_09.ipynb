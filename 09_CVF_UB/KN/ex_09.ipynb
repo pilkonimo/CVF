{
 "cells": [
  {
   "cell_type": "code",
   "execution_count": 1,
   "metadata": {},
   "outputs": [
    {
     "name": "stdout",
     "output_type": "stream",
     "text": [
      "Populating the interactive namespace from numpy and matplotlib\n"
     ]
    }
   ],
   "source": [
    "import numpy as np\n",
    "import math\n",
    "from copy import deepcopy\n",
    "%matplotlib notebook\n",
    "from matplotlib import pyplot as plt\n",
    "from networkx import grid_graph\n",
    "%pylab inline\n",
    "%load_ext autoreload\n",
    "%autoreload 2\n",
    "\n",
    "from cvf20.unionfind import UnionFind as UF"
   ]
  },
  {
   "cell_type": "markdown",
   "metadata": {},
   "source": [
    "# 1. Generalized All-Pairs Shortest Path Problem"
   ]
  },
  {
   "cell_type": "markdown",
   "metadata": {},
   "source": [
    "### a) All-pairs shortest path"
   ]
  },
  {
   "cell_type": "code",
   "execution_count": 2,
   "metadata": {},
   "outputs": [
    {
     "name": "stdout",
     "output_type": "stream",
     "text": [
      "[ 0.  6. inf inf inf]\n",
      "[inf  0. inf inf  2.]\n",
      "[ 1.  5.  0.  8. inf]\n",
      "[inf  2. inf  0. inf]\n",
      "[inf inf  4. inf  0.]\n"
     ]
    }
   ],
   "source": [
    "onestep     = np.array([[0,6.,math.inf,math.inf,math.inf], \\\n",
    "                        [math.inf,0,math.inf, math.inf, 2.], \\\n",
    "                        [1, 5., 0, 8., math.inf], \\\n",
    "                        [math.inf, 2., math.inf, 0, math.inf],\\\n",
    "                        [math.inf, math.inf, 4., math.inf, 0]])\n",
    "for row in onestep:\n",
    "    print(row)"
   ]
  },
  {
   "cell_type": "code",
   "execution_count": 11,
   "metadata": {},
   "outputs": [],
   "source": [
    "def matrixminsum(matrix):\n",
    "    dim = matrix.shape[0]\n",
    "    assert(matrix.shape[0] == matrix.shape[1])\n",
    "    \n",
    "    multisteps = deepcopy(matrix)\n",
    "    result = deepcopy(matrix)\n",
    "\n",
    "    iterations = 0\n",
    "    while 1:\n",
    "        iterations += 1\n",
    "        for i in range(dim):\n",
    "            row = multisteps[i]\n",
    "            for j in range(dim):\n",
    "                col = matrix[:, j]\n",
    "                result[i][j] = np.min(row + col)\n",
    "                \n",
    "        if (multisteps == result).all():\n",
    "            print(\"minsum converged after\", iterations - 1, \"iterations\")\n",
    "            return result, iterations-1\n",
    "        elif iterations > dim:\n",
    "            raise \"Negative Cycle detected\"\n",
    "            return None\n",
    "        else:\n",
    "            multisteps = deepcopy(result)"
   ]
  },
  {
   "cell_type": "code",
   "execution_count": 12,
   "metadata": {},
   "outputs": [
    {
     "name": "stdout",
     "output_type": "stream",
     "text": [
      "minsum converged after 3 iterations\n",
      "[[ 0.  6. 12. 20.  8.]\n",
      " [ 7.  0.  6. 14.  2.]\n",
      " [ 1.  5.  0.  8.  7.]\n",
      " [ 9.  2.  8.  0.  4.]\n",
      " [ 5.  9.  4. 12.  0.]]\n"
     ]
    }
   ],
   "source": [
    "shortestpaths, iterations = matrixminsum(onestep)\n",
    "print(shortestpaths)"
   ]
  },
  {
   "cell_type": "markdown",
   "metadata": {},
   "source": [
    "### b) All-pairs minimax path"
   ]
  },
  {
   "cell_type": "code",
   "execution_count": 13,
   "metadata": {},
   "outputs": [],
   "source": [
    "def matrixminimax(matrix):\n",
    "    dim = matrix.shape[0]\n",
    "    assert(matrix.shape[0] == matrix.shape[1])\n",
    "    \n",
    "    multisteps = deepcopy(matrix)\n",
    "    result = deepcopy(matrix)\n",
    "    newrow = np.array([0.0, 0.0, 0.0, 0.0, 0.0])\n",
    "    \n",
    "    iterations = 0\n",
    "    \n",
    "    while 1:\n",
    "        iterations += 1\n",
    "        for i in range(dim):\n",
    "            row = multisteps[i]\n",
    "            for j in range(dim):\n",
    "                col = matrix[:, j]\n",
    "                result[i][j] = np.min(np.maximum(row, col))\n",
    "\n",
    "        if (multisteps == result).all():\n",
    "            print(\"minimax converged after\", iterations - 1, \"iterations\")\n",
    "            return result, iterations-1\n",
    "        elif iterations > dim:\n",
    "            raise \"Negative Cycle detected\"\n",
    "            return None\n",
    "        else:\n",
    "            multisteps = deepcopy(result)"
   ]
  },
  {
   "cell_type": "code",
   "execution_count": 14,
   "metadata": {},
   "outputs": [
    {
     "name": "stdout",
     "output_type": "stream",
     "text": [
      "minimax converged after 3 iterations\n",
      "[[0. 6. 6. 8. 6.]\n",
      " [4. 0. 4. 8. 2.]\n",
      " [1. 5. 0. 8. 5.]\n",
      " [4. 2. 4. 0. 2.]\n",
      " [4. 5. 4. 8. 0.]]\n"
     ]
    }
   ],
   "source": [
    "shortestpaths, iterations = matrixminimax(onestep)\n",
    "print(shortestpaths)"
   ]
  },
  {
   "cell_type": "markdown",
   "metadata": {},
   "source": [
    "### c)\n",
    "\n",
    "Negative cycles can be detected by counting the number of iterations during which something changes in the matrix. If the iterations exceed the total number of nodes and still did not converge, then there must be negative cycles present. (see implementation above)"
   ]
  },
  {
   "cell_type": "markdown",
   "metadata": {},
   "source": [
    "# 2. Distance Transform Watershed using Fiji"
   ]
  },
  {
   "cell_type": "markdown",
   "metadata": {},
   "source": [
    "### b.) Distance Transform Watershed\n",
    "Use the code block below to load the image you generated with Fiji and plot it overlayed with the original raw image."
   ]
  },
  {
   "cell_type": "code",
   "execution_count": null,
   "metadata": {},
   "outputs": [],
   "source": [
    "from cvf20.utils import plot_segm\n",
    "raw = plt.imread(\"data/raw.png\")\n",
    "WS = plt.imread(\"data/distance-transform-WS.tif\")\n",
    "\n",
    "f, ax = plt.subplots(ncols=1, nrows=1, figsize=(15,15))\n",
    "plot_segm(ax, WS, with_background_label=True, alpha_labels=0.4, background_image=raw)\n",
    "plt.show()"
   ]
  },
  {
   "cell_type": "markdown",
   "metadata": {},
   "source": [
    "### c.) Segmenting boundaries \n",
    "Use the code block below to load the image you generated with Fiji and plot it overlayed with the original raw image."
   ]
  },
  {
   "cell_type": "code",
   "execution_count": null,
   "metadata": {},
   "outputs": [],
   "source": [
    "from cvf20.utils import plot_segm\n",
    "raw = plt.imread(\"data/raw.png\")\n",
    "WS = plt.imread(\"data/distance-transform-WS-no-boundaries.tif\")\n",
    "\n",
    "f, ax = plt.subplots(ncols=1, nrows=1, figsize=(15,15))\n",
    "plot_segm(ax, WS, with_background_label=True, alpha_labels=0.4, background_image=raw)\n",
    "plt.show()"
   ]
  },
  {
   "cell_type": "markdown",
   "metadata": {},
   "source": [
    "# 3. Bonus: Connected Component Labeling"
   ]
  },
  {
   "cell_type": "markdown",
   "metadata": {},
   "source": [
    "### b) Connected components on graphs\n",
    "Use the code block below to test your implementation on a randomly generated graph with 100 vertices. For every pair of nodes, we introduce an edge with probability 0.02. This is usually known as Erdős-Rényi graph or binomial graph. \n",
    "\n",
    "You should find that the graph has one very big connected component and several small ones."
   ]
  },
  {
   "cell_type": "code",
   "execution_count": null,
   "metadata": {},
   "outputs": [],
   "source": [
    "from networkx.algorithms.components import number_connected_components\n",
    "from networkx.generators.random_graphs import fast_gnp_random_graph\n",
    "\n",
    "# We now generate a graph with 100 vertices. For every pair of nodes, we introduce an edge with probability 0.02\n",
    "# This is usually known as Erdős-Rényi graph or binomial graph.\n",
    "G = fast_gnp_random_graph(100, 0.02)\n",
    "nodes = [n for n in G.nodes()]\n",
    "edges = [e for e in G.edges()]\n",
    "\n",
    "########################### \n",
    "# Your code starts here:\n",
    "###########################\n",
    "\n",
    "# Hint: keep in mind what you learned in the last assignment about the UnionFind data structure (Sheet 8, Exercise 1)    \n",
    "\n",
    "size_connected_components = None\n",
    "\n",
    "########################### \n",
    "# Your code ends here\n",
    "###########################\n",
    "\n",
    "\n",
    "if size_connected_components is not None:\n",
    "    assert size_connected_components.shape[0] == number_connected_components(G)\n",
    "    print(\"Size connected components: \", size_connected_components)\n",
    "    print(\"Biggest connected component: {} vertices (out of 100)\".format(size_connected_components.max()))"
   ]
  }
 ],
 "metadata": {
  "kernelspec": {
   "display_name": "Python 3",
   "language": "python",
   "name": "python3"
  },
  "language_info": {
   "codemirror_mode": {
    "name": "ipython",
    "version": 3
   },
   "file_extension": ".py",
   "mimetype": "text/x-python",
   "name": "python",
   "nbconvert_exporter": "python",
   "pygments_lexer": "ipython3",
   "version": "3.7.7"
  }
 },
 "nbformat": 4,
 "nbformat_minor": 2
}

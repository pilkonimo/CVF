{
 "cells": [
  {
   "cell_type": "markdown",
   "metadata": {},
   "source": [
    "For this exercise, you may need to install the `networkx` and `skimage` modules in your local environment."
   ]
  },
  {
   "cell_type": "code",
   "execution_count": null,
   "metadata": {},
   "outputs": [],
   "source": [
    "import numpy as np\n",
    "%matplotlib notebook\n",
    "from matplotlib import pyplot as plt\n",
    "from networkx import grid_graph\n",
    "%pylab inline\n",
    "%load_ext autoreload\n",
    "%autoreload 2\n",
    "\n",
    "from cvf20.unionfind import UnionFind as UF"
   ]
  },
  {
   "cell_type": "markdown",
   "metadata": {},
   "source": [
    "# 1 Maze Generation with Kruskal's algorithm"
   ]
  },
  {
   "cell_type": "markdown",
   "metadata": {},
   "source": [
    "Finish the implementation in the code block below:"
   ]
  },
  {
   "cell_type": "code",
   "execution_count": null,
   "metadata": {},
   "outputs": [],
   "source": [
    "# Dimension of the generated maze:\n",
    "field_shape = (16, 16)\n",
    "\n",
    "# make a union find datastructure for all nodes\n",
    "uf = UF()\n",
    "for x in range(field_shape[0]):\n",
    "    for y in range(field_shape[1]):\n",
    "        uf.add((x,y))\n",
    "\n",
    "# Create a gridgraph:\n",
    "# - Nodes are given by a tuple of 2D coordinates representing the position of the pixel in the image, e.g. (2,4)\n",
    "# - Edges are given by a tuple of two nodes, e.g. ((0,1), (0,2))\n",
    "G = grid_graph(dim=list(field_shape))\n",
    "\n",
    "# Create random weights\n",
    "edge_weights = np.array([[e, random.rand()] for e in G.edges()]) # shape (nb_edges, 2)\n",
    "for e, weight in edge_weights:\n",
    "    G[e[0]][e[1]]['weight'] = weight\n",
    "nodes = [n for n in G.nodes()]\n",
    "\n",
    "    \n",
    "# We will add edges to the list \n",
    "MST = []\n",
    "# that make up the minimal spanning tree\n",
    "\n",
    "### ----------------------------------------\n",
    "### Your Kruskal implementation goes here\n",
    "### ----------------------------------------            \n"
   ]
  },
  {
   "cell_type": "markdown",
   "metadata": {},
   "source": [
    "And then test it by plotting the created maze:"
   ]
  },
  {
   "cell_type": "code",
   "execution_count": null,
   "metadata": {},
   "outputs": [],
   "source": [
    "from matplotlib import animation\n",
    "from IPython.display import HTML\n",
    "\n",
    "def visualize_MSTs(MST):\n",
    "    \n",
    "    maze = np.zeros([len(MST)+20]+[2*f for f in field_shape])\n",
    "    maze[:, :-1:2, :-1:2] = 1\n",
    "    \n",
    "    for i,(n1, n2) in enumerate(MST):\n",
    "        n1 = np.asarray(n1)\n",
    "        n2 = np.asarray(n2)\n",
    "        w1 = n1 + 0.5*(n2-n1)\n",
    "        maze[i:, int(2*w1[0]), int(2*w1[1])] = 1\n",
    "    return maze\n",
    "\n",
    "maze = visualize_MSTs(MST)\n",
    "\n",
    "# Visualize final maze:\n",
    "fig, ax = plt.subplots(figsize=(5, 5))\n",
    "ax.imshow(maze[-1, :-1, :-1], cmap='gray')\n",
    "ax.set_title(\"Final maze\", fontsize=20)\n",
    "# ax.set_axis_off()\n",
    "plt.show()\n",
    "\n",
    "# Animate Maze creation:\n",
    "fig, ax = plt.subplots(figsize=(5, 5))\n",
    "\n",
    "def update(i):\n",
    "    ax.imshow(maze[i, :-1, :-1], cmap='gray')\n",
    "    ax.set_title(\"Edges in tree: {}\".format(i), fontsize=20)\n",
    "    return (ax, )\n",
    "    \n",
    "anim = animation.FuncAnimation(fig, update, frames=np.arange(0, len(MST), 4), interval=200)\n",
    "\n",
    "# Display the animation in the notebook:\n",
    "HTML(anim.to_html5_video())"
   ]
  },
  {
   "cell_type": "code",
   "execution_count": null,
   "metadata": {},
   "outputs": [],
   "source": [
    "# Save animation to file:\n",
    "Writer = animation.writers['ffmpeg']\n",
    "writer = Writer(fps=15, bitrate=1800)\n",
    "\n",
    "anim.save('im.mp4', writer=writer)"
   ]
  },
  {
   "cell_type": "markdown",
   "metadata": {},
   "source": [
    "### 1b) Modification for an unsolvable maze:\n",
    "Insert your code below"
   ]
  },
  {
   "cell_type": "code",
   "execution_count": null,
   "metadata": {},
   "outputs": [],
   "source": [
    "### Your code goes here"
   ]
  },
  {
   "cell_type": "markdown",
   "metadata": {},
   "source": [
    "# 2. Cell Segmentation with the Watershed Algorithm"
   ]
  },
  {
   "cell_type": "markdown",
   "metadata": {},
   "source": [
    "### Load and plot input data"
   ]
  },
  {
   "cell_type": "code",
   "execution_count": null,
   "metadata": {},
   "outputs": [],
   "source": [
    "from cvf20.utils import readHDF5, plot_segm\n",
    "\n",
    "filename = \"./data/serum_data.h5\"\n",
    "\n",
    "boundaries = readHDF5(filename, \"boundaries\")\n",
    "serum_IgA = readHDF5(filename, \"serum_IgA\")\n",
    "foreground = readHDF5(filename, \"foreground_prediction\")\n",
    "nuclei_segmentation = readHDF5(filename, \"nuclei_segmentation\")\n",
    "nuclei_raw = readHDF5(filename, \"nuclei_raw\")\n",
    "\n",
    "\n",
    "cmap=\"gray\"\n",
    "\n",
    "f, ax = plt.subplots(ncols=2, nrows=2, figsize=(15,15))\n",
    "ax[0,0].imshow(nuclei_raw, cmap=cmap) \n",
    "ax[0,0].axis('off')\n",
    "ax[0,0].set_title(\"Nuclei raw\")\n",
    "plot_segm(ax[0,1], nuclei_segmentation)\n",
    "ax[0,1].axis('off')\n",
    "ax[0,1].set_title(\"Nuclei segmentation\")\n",
    "ax[1,0].imshow(boundaries, cmap=cmap)\n",
    "ax[1,0].axis('off')\n",
    "ax[1,0].set_title(\"Boundary predictions\")\n",
    "ax[1,1].imshow(foreground, cmap=cmap) \n",
    "ax[1,1].axis('off')\n",
    "ax[1,1].set_title(\"Foreground prediction\")\n",
    "\n",
    "plt.show()"
   ]
  },
  {
   "cell_type": "markdown",
   "metadata": {},
   "source": [
    "### Your code goes here "
   ]
  },
  {
   "cell_type": "code",
   "execution_count": null,
   "metadata": {},
   "outputs": [],
   "source": [
    "from skimage.segmentation import watershed\n",
    "\n",
    "### Compute watershed segmentation here (from local minima)\n",
    "\n",
    "WS_segm = None"
   ]
  },
  {
   "cell_type": "code",
   "execution_count": null,
   "metadata": {},
   "outputs": [],
   "source": [
    "from skimage.segmentation import watershed\n",
    "\n",
    "### Compute seeded watershed segmentation here\n",
    "\n",
    "seeded_WS_segm = None"
   ]
  },
  {
   "cell_type": "markdown",
   "metadata": {},
   "source": [
    "### Plot your results"
   ]
  },
  {
   "cell_type": "code",
   "execution_count": null,
   "metadata": {},
   "outputs": [],
   "source": [
    "if seeded_WS_segm is not None and WS_segm is not None:\n",
    "    f, ax = plt.subplots(ncols=2, nrows=1, figsize=(15,15))\n",
    "    plot_segm(ax[0], WS_segm)\n",
    "    ax[0].axis('off')\n",
    "    ax[0].set_title(\"Watershed segmentation (from minima)\")\n",
    "    plot_segm(ax[1], seeded_WS_segm)\n",
    "    ax[1].axis('off')\n",
    "    ax[1].set_title(\"Watershed seeded segmentation\")\n",
    "    plt.show()"
   ]
  },
  {
   "cell_type": "markdown",
   "metadata": {},
   "source": [
    "# 3. Mutex Watershed"
   ]
  },
  {
   "cell_type": "markdown",
   "metadata": {},
   "source": [
    "Once you have finished implementing the Mutex Watershed algorithm in `cvf20/mws_python.py`, run the next block to test your implementation."
   ]
  },
  {
   "cell_type": "code",
   "execution_count": null,
   "metadata": {},
   "outputs": [],
   "source": [
    "from cvf20.mws_python import MWS\n",
    "from cvf20.arand import adapted_rand\n",
    "import time\n",
    "import h5py\n",
    "import networkx as nx\n",
    "\n",
    "# Load graph weights from file:\n",
    "# - each edge is given by a tuple of two node IDs (u, v)\n",
    "with h5py.File(\"./data/cremi_data.h5\", \"r\") as h:\n",
    "    raw = h[\"raw\"][:]\n",
    "    gt = h[\"gt\"][:]\n",
    "    sp = h[\"sp\"][:]\n",
    "    edge_costs = -h[\"edge_costs\"][:]\n",
    "    edges = h[\"edges\"][:]\n",
    "    raw = h[\"raw\"][:]\n",
    "\n",
    "# Build graph in Networkx:\n",
    "g = nx.Graph()\n",
    "for i, (u, v) in enumerate(edges):\n",
    "    g.add_edge(u, v, w=edge_costs[i])\n",
    "\n",
    "print(\"Running mutex_watershed...\")\n",
    "mws_seg = np.asarray(MWS(g, edges, edge_costs))\n",
    "\n",
    "\n",
    "# Compute scores:\n",
    "ar, prec, recall = adapted_rand(mws_seg[sp], gt)\n",
    "print(\"Adapted rand score: {}; Precision: {}; Recall: {}\".format(ar, prec, recall))\n",
    "\n",
    "\n",
    "# Plot the results:\n",
    "f, ax = plt.subplots(ncols=2, nrows=1, figsize=(15,15))\n",
    "plot_segm(ax[0],mws_seg[sp], with_background_label=False, alpha_labels=0.4, background_image=raw)\n",
    "ax[0].set_title(\"Mutex Watershed segmentation\")\n",
    "plot_segm(ax[1],gt, with_background_label=False, alpha_labels=0.4, background_image=raw)\n",
    "ax[1].set_title(\"Ground truth segmentation\")\n",
    "plt.show()"
   ]
  }
 ],
 "metadata": {
  "kernelspec": {
   "display_name": "Python 3",
   "language": "python",
   "name": "python3"
  },
  "language_info": {
   "codemirror_mode": {
    "name": "ipython",
    "version": 3
   },
   "file_extension": ".py",
   "mimetype": "text/x-python",
   "name": "python",
   "nbconvert_exporter": "python",
   "pygments_lexer": "ipython3",
   "version": "3.7.7"
  }
 },
 "nbformat": 4,
 "nbformat_minor": 2
}

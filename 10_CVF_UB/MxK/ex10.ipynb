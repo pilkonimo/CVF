{
 "cells": [
  {
   "cell_type": "code",
   "execution_count": null,
   "metadata": {},
   "outputs": [],
   "source": [
    "import numpy as np\n",
    "%matplotlib notebook\n",
    "%pylab inline\n",
    "%load_ext autoreload\n",
    "%autoreload 2"
   ]
  },
  {
   "cell_type": "markdown",
   "metadata": {},
   "source": [
    "# 1.1 Tracking by assignment without particle merging or division"
   ]
  },
  {
   "cell_type": "markdown",
   "metadata": {},
   "source": [
    "### f) Linear program definition\n",
    "In order to write down the matrix of constraints, you may find convenient to finish implementing the following function:"
   ]
  },
  {
   "cell_type": "code",
   "execution_count": null,
   "metadata": {},
   "outputs": [],
   "source": [
    "### Convert edge list to incidence matrix:\n",
    "def get_incidence_matrix(edge_list, nb_nodes=None):\n",
    "    \"\"\"\n",
    "    Utility function converting a list of uv-edges into an incidence matrix.\n",
    "    \n",
    "    edge_list should be a numpy array of shape (number_of_edges, 2) including the uv-pairs \n",
    "    for each edge in the graph\n",
    "    \"\"\"\n",
    "    nb_nodes = edge_list.max() + 1 if nb_nodes is None else nb_nodes\n",
    "    inc_matrix = None\n",
    "\n",
    "    # Your code goes here\n",
    "    pass\n",
    "    \n",
    "    return inc_matrix"
   ]
  },
  {
   "cell_type": "code",
   "execution_count": null,
   "metadata": {},
   "outputs": [],
   "source": [
    "### Your solution goes here\n",
    "pass"
   ]
  },
  {
   "cell_type": "markdown",
   "metadata": {},
   "source": [
    "### g) Solve the linear program\n",
    "To solve the LP you may find useful the following wrapper of `scipy.optimize.linprog`."
   ]
  },
  {
   "cell_type": "code",
   "execution_count": null,
   "metadata": {},
   "outputs": [],
   "source": [
    "from scipy.optimize import linprog\n",
    "\n",
    "def solve_LP(costs, A_eq=None, b_eq=None, A_leq=None, b_leq=None, bounds=(0, None), \n",
    "            edge_list=None):\n",
    "    \"\"\"\n",
    "    A wrapper around `scipy.optimize.linprog`.\n",
    "    \n",
    "    The `bounds` parameter represents what in the exercise sheet is defined as (x_low, x_high)\n",
    "    \"\"\"\n",
    "    optim_result = scipy.optimize.linprog(costs, A_ub=A_leq, b_ub=b_leq, A_eq=A_eq, \n",
    "                                          b_eq=b_eq,  bounds=bounds, method='revised simplex')\n",
    "    solution = optim_result.x\n",
    "    assert optim_result.status == 0, \"Something went wrong during the optimization\"\n",
    "    \n",
    "    # Do some printing:\n",
    "    np.set_printoptions(precision=4)\n",
    "    print(\"LP solution: \\n\", solution)\n",
    "    print(\"LP minimum energy: \", optim_result.fun)\n",
    "    \n",
    "    # Print selected edges:\n",
    "    if edge_list is not None:\n",
    "        assert edge_list.shape[0] == solution.shape[0]\n",
    "        for i, edge in enumerate(edge_list):\n",
    "            if np.allclose(solution[i], 1.):\n",
    "                print(\"Edge ({},{}) selected\".format(edge[0], edge[1]))\n",
    "    \n",
    "    return solution, optim_result.fun"
   ]
  },
  {
   "cell_type": "code",
   "execution_count": null,
   "metadata": {},
   "outputs": [],
   "source": [
    "### Your solution goes here\n",
    "pass"
   ]
  },
  {
   "cell_type": "markdown",
   "metadata": {},
   "source": [
    "### h) Particle appearance and disappearance"
   ]
  },
  {
   "cell_type": "code",
   "execution_count": null,
   "metadata": {},
   "outputs": [],
   "source": [
    "### Your solution goes here\n",
    "pass"
   ]
  },
  {
   "cell_type": "markdown",
   "metadata": {},
   "source": [
    "# 1.2 Bonus: Tracking with particle merging and/or division"
   ]
  },
  {
   "cell_type": "code",
   "execution_count": null,
   "metadata": {},
   "outputs": [],
   "source": [
    "### Your solution goes here\n",
    "pass"
   ]
  }
 ],
 "metadata": {
  "kernelspec": {
   "display_name": "Python 3",
   "language": "python",
   "name": "python3"
  },
  "language_info": {
   "codemirror_mode": {
    "name": "ipython",
    "version": 3
   },
   "file_extension": ".py",
   "mimetype": "text/x-python",
   "name": "python",
   "nbconvert_exporter": "python",
   "pygments_lexer": "ipython3",
   "version": "3.7.7"
  }
 },
 "nbformat": 4,
 "nbformat_minor": 2
}

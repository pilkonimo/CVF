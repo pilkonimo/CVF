{
 "cells": [
  {
   "cell_type": "code",
   "execution_count": 1,
   "metadata": {},
   "outputs": [
    {
     "name": "stdout",
     "output_type": "stream",
     "text": [
      "Populating the interactive namespace from numpy and matplotlib\n"
     ]
    }
   ],
   "source": [
    "import numpy as np\n",
    "import scipy\n",
    "%matplotlib notebook\n",
    "%pylab inline\n",
    "%load_ext autoreload\n",
    "%autoreload 2"
   ]
  },
  {
   "cell_type": "markdown",
   "metadata": {},
   "source": [
    "# 1.1 Tracking by assignment without particle merging or division"
   ]
  },
  {
   "cell_type": "markdown",
   "metadata": {},
   "source": [
    "### f) Linear program definition\n",
    "In order to write down the matrix of constraints, you may find convenient to finish implementing the following function:"
   ]
  },
  {
   "cell_type": "code",
   "execution_count": 2,
   "metadata": {},
   "outputs": [],
   "source": [
    "### Convert edge list to incidence matrix:\n",
    "def get_incidence_matrix(edge_list, nb_nodes=None):\n",
    "    \"\"\"\n",
    "    Utility function converting a list of uv-edges into an incidence matrix.\n",
    "    \n",
    "    edge_list should be a numpy array of shape (number_of_edges, 2) including the uv-pairs \n",
    "    for each edge in the graph\n",
    "    \"\"\"\n",
    "    nb_nodes = edge_list.max() + 1 if nb_nodes is None else nb_nodes\n",
    "    \n",
    "    nb_edges = edge_list.shape[0]\n",
    "    inc_matrix = np.zeros((nb_nodes, nb_edges))\n",
    "    \n",
    "    for i, (u,v) in enumerate(edge_list):\n",
    "        inc_matrix[u][i] = -1\n",
    "        inc_matrix[v][i] = 1\n",
    "    \n",
    "    # delete entries for start and target nodes\n",
    "    inc_matrix = np.delete(inc_matrix, [0, nb_nodes-1], 0)\n",
    "    return inc_matrix"
   ]
  },
  {
   "cell_type": "code",
   "execution_count": 3,
   "metadata": {},
   "outputs": [],
   "source": [
    "def get_min_cost_flow_LP(edge_list, costs):\n",
    "    A_eq = get_incidence_matrix(edge_list)\n",
    "    b_eq = np.zeros(edge_list.max() - 1)\n",
    "    A_leq = np.identity(edge_list.shape[0])\n",
    "    b_leq = np.ones(edge_list.shape[0])\n",
    "    bounds = (0, None)\n",
    "\n",
    "    print(f'Linear Program:\\n\\n'\n",
    "          f'min_x c*x\\n'\n",
    "          f's.t. A_eq x=b_eq\\n'\n",
    "          f'A_leq*x<=b_leq\\n'\n",
    "          f'{bounds[0]}<= x <= {bounds[1]}\\n\\n'\n",
    "          f'with c = {costs}\\n'\n",
    "          f'A_eq = {A_eq}\\n'\n",
    "          f'b_eq = {b_eq}\\n'\n",
    "          f'A_leq={A_leq}\\n'\n",
    "          f'b_leq = {b_leq}')\n",
    "\n",
    "    return costs, A_eq, b_eq, A_leq, b_leq, bounds\n",
    "    \n",
    "edge_list = np.array([[0, 1], [0, 2], [0, 3], [1, 4], [2, 5], [3, 6], [4, 7], [4 ,8], \n",
    "                          [5, 7], [5 ,8], [6, 7], [6 ,8], [7, 9], [8 , 10], [9, 11], [10 ,11], \n",
    "                          [11, 12], [12 ,13]])\n",
    "\n",
    "costs = np.array([0, 0, 0, -10, -20, -18, 5, 26, 16, 5, 41, 20, -13 ,-8, 17, 34, -9, 0])\n",
    "\n",
    "costs, A_eq, b_eq, A_leq, b_leq, bounds = get_min_cost_flow_LP(edge_list, costs)"
   ]
  },
  {
   "cell_type": "markdown",
   "metadata": {},
   "source": [
    "### g) Solve the linear program\n",
    "To solve the LP you may find useful the following wrapper of `scipy.optimize.linprog`."
   ]
  },
  {
   "cell_type": "code",
   "execution_count": 4,
   "metadata": {},
   "outputs": [],
   "source": [
    "from scipy.optimize import linprog\n",
    "\n",
    "def solve_LP(costs, A_eq=None, b_eq=None, A_leq=None, b_leq=None, bounds=(0, None), \n",
    "            edge_list=None):\n",
    "    \"\"\"\n",
    "    A wrapper around `scipy.optimize.linprog`.\n",
    "    \n",
    "    The `bounds` parameter represents what in the exercise sheet is defined as (x_low, x_high)\n",
    "    \"\"\"\n",
    "    optim_result = scipy.optimize.linprog(costs, A_ub=A_leq, b_ub=b_leq, A_eq=A_eq, \n",
    "                                          b_eq=b_eq,  bounds=bounds, method='revised simplex')\n",
    "    solution = optim_result.x\n",
    "    assert optim_result.status == 0, \"Something went wrong during the optimization\"\n",
    "    \n",
    "    # Do some printing:\n",
    "    np.set_printoptions(precision=4)\n",
    "    print(\"LP solution: \\n\", solution)\n",
    "    print(\"LP minimum energy: \", optim_result.fun)\n",
    "    \n",
    "    # Print selected edges:\n",
    "    if edge_list is not None:\n",
    "        assert edge_list.shape[0] == solution.shape[0]\n",
    "        for i, edge in enumerate(edge_list):\n",
    "            if np.allclose(solution[i], 1.):\n",
    "                print(\"Edge ({},{}) selected\".format(edge[0], edge[1]))\n",
    "    \n",
    "    return solution, optim_result.fun"
   ]
  },
  {
   "cell_type": "code",
   "execution_count": 5,
   "metadata": {},
   "outputs": [
    {
     "name": "stdout",
     "output_type": "stream",
     "text": [
      "LP solution: \n",
      " [1. 0. 0. 1. 0. 0. 1. 0. 0. 0. 0. 0. 1. 0. 1. 0. 1. 1.]\n",
      "LP minimum energy:  -10.0\n",
      "Edge (0,1) selected\n",
      "Edge (1,4) selected\n",
      "Edge (4,7) selected\n",
      "Edge (7,9) selected\n",
      "Edge (9,11) selected\n",
      "Edge (11,12) selected\n",
      "Edge (12,13) selected\n",
      "N_tot = 1\n"
     ]
    }
   ],
   "source": [
    "def get_N_tot(edge_list, solution):\n",
    "    target = edge_list.max()\n",
    "    # set nodes of unused edges to -1\n",
    "    edge_list[np.repeat(solution[:, np.newaxis], 2, axis=1) == 0] = -1\n",
    "    N_tot = np.sum(edge_list[:, 1] == target)\n",
    "    return N_tot\n",
    "\n",
    "solution, optim_result = solve_LP(costs, A_eq, b_eq, A_leq, b_leq, bounds, np.copy(edge_list))    \n",
    "N_tot = get_N_tot(np.copy(edge_list), solution)\n",
    "print(f'N_tot = {N_tot}')"
   ]
  },
  {
   "cell_type": "markdown",
   "metadata": {},
   "source": [
    "$N_{tot}=1$ as expected, because appearances and disappearances are note allowed except for frame 1 and 3 respectively and frame 3 ends with one observation.  "
   ]
  },
  {
   "cell_type": "markdown",
   "metadata": {},
   "source": [
    "### h) Particle appearance and disappearance"
   ]
  },
  {
   "cell_type": "code",
   "execution_count": 6,
   "metadata": {},
   "outputs": [
    {
     "name": "stdout",
     "output_type": "stream",
     "text": [
      "LP solution: \n",
      " [1. 1. 1. 1. 1. 1. 1. 0. 0. 1. 0. 0. 1. 1. 0. 0. 1. 1. 0. 0. 1. 0. 0. 1.\n",
      " 1. 1.]\n",
      "LP minimum energy:  -32.0\n",
      "Edge (0,1) selected\n",
      "Edge (0,2) selected\n",
      "Edge (0,3) selected\n",
      "Edge (1,4) selected\n",
      "Edge (2,5) selected\n",
      "Edge (3,6) selected\n",
      "Edge (4,7) selected\n",
      "Edge (5,8) selected\n",
      "Edge (7,9) selected\n",
      "Edge (8,10) selected\n",
      "Edge (11,12) selected\n",
      "Edge (12,13) selected\n",
      "Edge (0,11) selected\n",
      "Edge (6,13) selected\n",
      "Edge (9,13) selected\n",
      "Edge (10,13) selected\n",
      "N_tot = 4\n"
     ]
    }
   ],
   "source": [
    "edge_list = np.append(edge_list, [[0, 7], [0, 8], [0, 11], [4, 13], [5, 13], [6, 13], [9, 13], [10, 13]], axis=0)\n",
    "costs = np.append(costs[:], [6, 6, 6, 10, 10, 10, 10, 10])\n",
    "\n",
    "costs, A_eq, b_eq, A_leq, b_leq, bounds = get_min_cost_flow_LP(edge_list, costs)\n",
    "\n",
    "solution, optim_result = solve_LP(costs, A_eq, b_eq, A_leq, b_leq, bounds, edge_list)    \n",
    "N_tot = get_N_tot(edge_list[:], solution)\n",
    "print(f'N_tot = {N_tot}')"
   ]
  },
  {
   "cell_type": "markdown",
   "metadata": {},
   "source": [
    "Now the resulting number of particles is $N_{tot}=4$. The maximum distance for a particle to travel between one frame and the next one is ????"
   ]
  },
  {
   "cell_type": "markdown",
   "metadata": {},
   "source": [
    "# 1.2 Bonus: Tracking with particle merging and/or division"
   ]
  },
  {
   "cell_type": "code",
   "execution_count": null,
   "metadata": {},
   "outputs": [],
   "source": [
    "### Your solution goes here\n",
    "pass"
   ]
  }
 ],
 "metadata": {
  "kernelspec": {
   "display_name": "Python 3",
   "language": "python",
   "name": "python3"
  },
  "language_info": {
   "codemirror_mode": {
    "name": "ipython",
    "version": 3
   },
   "file_extension": ".py",
   "mimetype": "text/x-python",
   "name": "python",
   "nbconvert_exporter": "python",
   "pygments_lexer": "ipython3",
   "version": "3.7.7"
  }
 },
 "nbformat": 4,
 "nbformat_minor": 2
}
